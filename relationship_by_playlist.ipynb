{
 "cells": [
  {
   "cell_type": "code",
   "execution_count": 1,
   "metadata": {},
   "outputs": [],
   "source": [
    "import json\n",
    "import requests\n",
    "import spotipy\n",
    "import spotipy.util as util\n",
    "import pandas as pd\n",
    "from pandas import DataFrame\n",
    "import numpy as np\n",
    "import random\n",
    "import warnings\n",
    "import seaborn as sns\n",
    "import matplotlib.pyplot as plt\n",
    "from tqdm import tqdm\n",
    "from sklearn.model_selection import train_test_split \n",
    "from sklearn.linear_model import LogisticRegression\n",
    "from sklearn import metrics"
   ]
  },
  {
   "cell_type": "code",
   "execution_count": 3,
   "metadata": {},
   "outputs": [
    {
     "name": "stdout",
     "output_type": "stream",
     "text": [
      "\n",
      "\n",
      "            User authentication requires interaction with your\n",
      "            web browser. Once you enter your credentials and\n",
      "            give authorization, you will be redirected to\n",
      "            a url.  Paste that url you were directed to to\n",
      "            complete the authorization.\n",
      "\n",
      "        \n",
      "Opened https://accounts.spotify.com/authorize?client_id=&scope=user-library-read in your browser\n",
      "\n",
      "\n",
      "Enter the URL you were redirected to: ?code=拿到的網址\n",
      "\n",
      "\n"
     ]
    }
   ],
   "source": [
    "#username可以隨意打\n",
    "username = '史罷特歪'\n",
    "scope = 'user-library-read'\n",
    "\n",
    "token = util.prompt_for_user_token(username, scope,\n",
    "                          client_id = '使用自己的',\n",
    "                          client_secret = '使用自己的',\n",
    "                          # 要在web app 加入 redirect 的白名單\n",
    "                          redirect_uri = 'http://localhost/')\n",
    "\n",
    "\n",
    "#client_id = '",
    "#client_secret = '",
    "                         \n",
    "# 複製   http://localhost/  後面的東西\n",
    "#等等出現的對話框 要輸入上面複製的東西"
   ]
  },
  {
   "cell_type": "code",
   "execution_count": 4,
   "metadata": {},
   "outputs": [],
   "source": [
    "headers = {\"Authorization\": \"Bearer {}\".format(token)}"
   ]
  },
  {
   "cell_type": "code",
   "execution_count": 5,
   "metadata": {},
   "outputs": [],
   "source": [
    "# https://api.spotify.com/v1/users/你的歌單名字(ex: 中文嘻哈)/playlists/上面歌單/tracks?offset=0&limit=50\",headers=headers\n",
    "\n",
    "#重複抓取所需的資料 get_spotify_data\n",
    "def get_spotify_data(playlist_uri):\n",
    "    \n",
    "    assign_word = \"user\"\n",
    "    \n",
    "    if assign_word in playlist_uri:          #取出網址所需要的部分\n",
    "        playlist_uri = playlist_uri.split(\"/\")\n",
    "        get_slash = playlist_uri[6]\n",
    "        uri_gogo =  \"https://api.spotify.com/v1/users/mymusic/playlists/\" + get_slash + \"tracks?offset=0&limit=50\"\n",
    "    \n",
    "    else:\n",
    "        playlist_uri = playlist_uri.split(\"/\")\n",
    "        get_slash = playlist_uri[4]\n",
    "        uri_gogo =  \"https://api.spotify.com/v1/users/mymusic/playlists/\" + get_slash + \"tracks?offset=0&limit=50\"\n",
    "    \n",
    "    \n",
    "    \n",
    "    #從API抓資料：\n",
    "    \n",
    "    hi = requests.get(uri_gogo,headers = headers)\n",
    "\n",
    "    \n",
    "    \n",
    "    #資料從json轉成串列(每首歌的特徵值為一個字典)(也就是20個字典在一個播放清單的串列裡)：\n",
    "    data = json.loads(hi.text)         \n",
    "    someone_songs_attributes = [ ]     # song's attribute\n",
    "    someone_songs_names = [ ]          #song'name \n",
    "\n",
    "    \n",
    "    def get_song_attributes(response_text):\n",
    "        return json.loads(response_text)\n",
    "    \n",
    "    #拿到歌曲的uri\n",
    "    for item in data.get('tracks')['items']:\n",
    "        \n",
    "        song_ids = item['track']['uri'].split(':')[2]\n",
    "        song_name = item['track']['name']\n",
    "        song_attributes = requests.get(f\"https://api.spotify.com/v1/audio-features/{song_ids}\", headers = headers)\n",
    "        someone_songs_attributes.append(get_song_attributes(song_attributes.text))\n",
    "        someone_songs_names.append(song_name)\n",
    "    \n",
    "    \n",
    "    \n",
    "    #把不需要的變數丟掉(變數第一篩)：    \n",
    "    for i in someone_songs_attributes:\n",
    "        i.pop('type')\n",
    "        i.pop('id')\n",
    "        i.pop('uri')\n",
    "        i.pop('track_href')\n",
    "        i.pop('analysis_url')\n",
    "        i.pop('time_signature')\n",
    "\n",
    "    \n",
    "    \n",
    "    #將得到的資料整理成表格(取var)：\n",
    "    df = pd.DataFrame(someone_songs_attributes)\n",
    "    col_name = df.columns.tolist()\n",
    "    col_name = sorted(col_name)\n",
    "    col_name.insert(0, \"song\")\n",
    "    df = df.reindex(columns = col_name)\n",
    "    df[\"song\"] = someone_songs_names\n",
    "    \n",
    "    \n",
    "    \n",
    "    #把平均或取變異數過後的變數和變數名稱整理成串列：\n",
    "    column = 0\n",
    "    variable_title = [ ]\n",
    "    variable_value = [ ]\n",
    "    temp = [ ]\n",
    "    \n",
    "    for i in col_name:\n",
    "\n",
    "        if column >= 1:\n",
    "            \n",
    "            average_song = df[i].std()\n",
    "            variable_title.append(i)\n",
    "            variable_value.append(average_song)\n",
    "            \n",
    "        column += 1\n",
    "    \n",
    "    \n",
    "    \n",
    "    #把要的變數用變數名稱判斷來抓出他的值，加到temp裡面，最後return出這個歌單的變數(變數第二篩)：\n",
    "    \n",
    "    for i , j in zip(variable_title,variable_value):\n",
    "        \n",
    "        i = str(i)\n",
    "        j = float(j)\n",
    "        \n",
    "        if i == 'speechiness' or i == 'valence':\n",
    "            temp.append(j)\n",
    "    \n",
    "    \n",
    "    return temp"
   ]
  },
  {
   "cell_type": "code",
   "execution_count": 6,
   "metadata": {
    "scrolled": true
   },
   "outputs": [
    {
     "data": {
      "text/html": [
       "<div>\n",
       "<style scoped>\n",
       "    .dataframe tbody tr th:only-of-type {\n",
       "        vertical-align: middle;\n",
       "    }\n",
       "\n",
       "    .dataframe tbody tr th {\n",
       "        vertical-align: top;\n",
       "    }\n",
       "\n",
       "    .dataframe thead th {\n",
       "        text-align: right;\n",
       "    }\n",
       "</style>\n",
       "<table border=\"1\" class=\"dataframe\">\n",
       "  <thead>\n",
       "    <tr style=\"text-align: right;\">\n",
       "      <th></th>\n",
       "      <th>連結一</th>\n",
       "      <th>連結二</th>\n",
       "      <th>朋友關係</th>\n",
       "    </tr>\n",
       "  </thead>\n",
       "  <tbody>\n",
       "    <tr>\n",
       "      <th>0</th>\n",
       "      <td>https://open.spotify.com/playlist/2uOx3uPcRy05...</td>\n",
       "      <td>https://open.spotify.com/playlist/5CGCfZ7KHZIa...</td>\n",
       "      <td>1</td>\n",
       "    </tr>\n",
       "    <tr>\n",
       "      <th>1</th>\n",
       "      <td>https://open.spotify.com/playlist/7jUXg4DTIc1a...</td>\n",
       "      <td>https://open.spotify.com/playlist/1xFk1UVomG1R...</td>\n",
       "      <td>1</td>\n",
       "    </tr>\n",
       "    <tr>\n",
       "      <th>2</th>\n",
       "      <td>https://open.spotify.com/playlist/0lqJgvDkZk3G...</td>\n",
       "      <td>https://open.spotify.com/playlist/6WLvPX3eApl3...</td>\n",
       "      <td>1</td>\n",
       "    </tr>\n",
       "    <tr>\n",
       "      <th>3</th>\n",
       "      <td>https://open.spotify.com/playlist/2Cvgv79npINQ...</td>\n",
       "      <td>https://open.spotify.com/playlist/2nlpcmlX0aRj...</td>\n",
       "      <td>1</td>\n",
       "    </tr>\n",
       "    <tr>\n",
       "      <th>4</th>\n",
       "      <td>https://open.spotify.com/playlist/4OuBNLWJucVf...</td>\n",
       "      <td>https://open.spotify.com/playlist/40QutHmypjg4...</td>\n",
       "      <td>1</td>\n",
       "    </tr>\n",
       "    <tr>\n",
       "      <th>...</th>\n",
       "      <td>...</td>\n",
       "      <td>...</td>\n",
       "      <td>...</td>\n",
       "    </tr>\n",
       "    <tr>\n",
       "      <th>94</th>\n",
       "      <td>https://open.spotify.com/playlist/4hMHSNALj4yF...</td>\n",
       "      <td>https://open.spotify.com/playlist/4CgVfYzMtriE...</td>\n",
       "      <td>0</td>\n",
       "    </tr>\n",
       "    <tr>\n",
       "      <th>95</th>\n",
       "      <td>https://open.spotify.com/playlist/1HZJcEispDQm...</td>\n",
       "      <td>https://open.spotify.com/playlist/3u0FU6ZCFquA...</td>\n",
       "      <td>0</td>\n",
       "    </tr>\n",
       "    <tr>\n",
       "      <th>96</th>\n",
       "      <td>https://open.spotify.com/playlist/5uj7VBiyRrtR...</td>\n",
       "      <td>https://open.spotify.com/playlist/1xRULc1Pl6id...</td>\n",
       "      <td>0</td>\n",
       "    </tr>\n",
       "    <tr>\n",
       "      <th>97</th>\n",
       "      <td>https://open.spotify.com/playlist/3S3CQuepi4z9...</td>\n",
       "      <td>https://open.spotify.com/playlist/3HbFyu4KGH8I...</td>\n",
       "      <td>0</td>\n",
       "    </tr>\n",
       "    <tr>\n",
       "      <th>98</th>\n",
       "      <td>https://open.spotify.com/user/21mw7w6rcbfrryca...</td>\n",
       "      <td>https://open.spotify.com/playlist/72xETCQ0zjX3...</td>\n",
       "      <td>0</td>\n",
       "    </tr>\n",
       "  </tbody>\n",
       "</table>\n",
       "<p>99 rows × 3 columns</p>\n",
       "</div>"
      ],
      "text/plain": [
       "                                                  連結一  \\\n",
       "0   https://open.spotify.com/playlist/uOx3uPcRy05...   \n",
       "1   https://open.spotify.com/playlist/jUXg4DTIc1a...   \n",
       "2   https://open.spotify.com/playlist/lqJgvDkZk3G...   \n",
       "3   https://open.spotify.com/playlist/Cvgv79npINQ...   \n",
       "4   https://open.spotify.com/playlist/OuBNLWJucVf...   \n",
       "..                                                ...   \n",
       "94  https://open.spotify.com/playlist/hMHSNALj4yF...   \n",
       "95  https://open.spotify.com/playlist/HZJcEispDQm...   \n",
       "96  https://open.spotify.com/playlist/uj7VBiyRrtR...   \n",
       "97  https://open.spotify.com/playlist/S3CQuepi4z9...   \n",
       "98  https://open.spotify.com/user/1mw7w6rcbfrryca...   \n",
       "\n",
       "                                                  連結二  朋友關係  \n",
       "0   https://open.spotify.com/playlist/CGCfZ7KHZIa...     1  \n",
       "1   https://open.spotify.com/playlist/xFk1UVomG1R...     1  \n",
       "2   https://open.spotify.com/playlist/WLvPX3eApl3...     1  \n",
       "3   https://open.spotify.com/playlist/nlpcmlX0aRj...     1  \n",
       "4   https://open.spotify.com/playlist/0QutHmypjg4...     1  \n",
       "..                                                ...   ...  \n",
       "94  https://open.spotify.com/playlist/CgVfYzMtriE...     0  \n",
       "95  https://open.spotify.com/playlist/u0FU6ZCFquA...     0  \n",
       "96  https://open.spotify.com/playlist/xRULc1Pl6id...     0  \n",
       "97  https://open.spotify.com/playlist/HbFyu4KGH8I...     0  \n",
       "98  https://open.spotify.com/playlist/2xETCQ0zjX3...     0  \n",
       "\n",
       "[99 rows x 3 columns]"
      ]
     },
     "execution_count": 6,
     "metadata": {},
     "output_type": "execute_result"
    }
   ],
   "source": [
    "# path設置你放excel檔的路徑\n",
    "#/Users/boyen/Desktop/ccClub/spotify專案/資料測試集.xlsx\n",
    "\n",
    "path = '/Users/boyen/Desktop/ccClub/spotify專案/'\n",
    "fname = path +'資料測試集.xlsx'\n",
    "\n",
    "df_test = pd.read_excel(fname, 0)\n",
    "df_test\n",
    "#df_test[\"連結一\"]"
   ]
  },
  {
   "cell_type": "code",
   "execution_count": 7,
   "metadata": {},
   "outputs": [
    {
     "name": "stdout",
     "output_type": "stream",
     "text": [
      "<class 'list'>\n"
     ]
    }
   ],
   "source": [
    "values = df_test.values\n",
    "values = list(values)\n",
    "#print(values)\n",
    "print(type(values))"
   ]
  },
  {
   "cell_type": "code",
   "execution_count": 8,
   "metadata": {
    "scrolled": true
   },
   "outputs": [
    {
     "name": "stdout",
     "output_type": "stream",
     "text": [
      "99\n"
     ]
    }
   ],
   "source": [
    "print(len(values)) "
   ]
  },
  {
   "cell_type": "code",
   "execution_count": 9,
   "metadata": {
    "scrolled": true
   },
   "outputs": [
    {
     "name": "stdout",
     "output_type": "stream",
     "text": [
     "已刪除"
     ]
    }
   ],
   "source": [
    "for i in values:\n",
    "    print(i)"
   ]
  },
  {
   "cell_type": "code",
   "execution_count": 17,
   "metadata": {
    "scrolled": true
   },
   "outputs": [
    {
     "name": "stdout",
     "output_type": "stream",
     "text": [
      "0 done\n",
      "1 done\n",
      "2 done\n",
      "3 done\n",
      "4 done\n",
      "5 done\n",
      "6 done\n",
      "7 done\n",
      "8 done\n",
      "9 done\n",
      "10 done\n",
      "11 done\n",
      "12 done\n",
      "13 done\n",
      "14 done\n",
      "15 done\n",
      "16 done\n",
      "17 done\n",
      "18 done\n",
      "19 done\n",
      "20 done\n",
      "21 done\n",
      "22 done\n",
      "23 done\n",
      "24 done\n",
      "25 done\n",
      "26 done\n",
      "27 done\n",
      "28 done\n",
      "29 done\n",
      "30 done\n",
      "31 done\n",
      "32 done\n",
      "33 done\n",
      "34 done\n",
      "35 done\n",
      "36 done\n",
      "37 done\n",
      "38 done\n",
      "39 done\n",
      "40 done\n",
      "41 done\n",
      "42 done\n",
      "43 done\n",
      "44 done\n",
      "45 done\n",
      "46 done\n",
      "47 done\n",
      "48 done\n",
      "49 done\n",
      "50 done\n",
      "51 done\n",
      "52 done\n",
      "53 done\n",
      "54 done\n",
      "55 done\n",
      "56 done\n",
      "57 done\n",
      "58 done\n",
      "59 done\n",
      "60 done\n",
      "61 done\n",
      "62 done\n",
      "63 done\n",
      "64 done\n",
      "65 done\n",
      "66 done\n",
      "67 done\n",
      "68 done\n",
      "69 done\n",
      "70 done\n",
      "71 done\n",
      "72 done\n",
      "73 done\n",
      "74 done\n",
      "75 done\n",
      "76 done\n",
      "77 done\n",
      "78 done\n",
      "79 done\n",
      "80 done\n",
      "81 done\n",
      "82 done\n",
      "83 done\n",
      "84 done\n",
      "85 done\n",
      "86 done\n",
      "87 done\n",
      "88 done\n",
      "89 done\n",
      "90 done\n",
      "91 done\n",
      "92 done\n",
      "93 done\n",
      "94 done\n",
      "95 done\n",
      "96 done\n",
      "97 done\n",
      "98 done\n",
      "[[0.00915075389980011, 0.05728778628014114], [0.006542371663605319, 0.11220211654665962], [0.04310456513842336, 0.05678319082475944], [0.028839062555174058, 0.007555285737287726], [0.019342708530104863, 0.010862313651553518], [0.0009649681016766186, 0.10173240498343897], [0.0038012442930115964, 0.11850960027868823], [0.017894200848873425, 0.09618119858351623], [0.0841696765791016, 0.05321945467029532], [0.0003523295887125043, 0.11103139612606275], [0.09222587931838147, 0.04389748688934628], [0.03596572915659746, 0.0463148949770089], [0.08691922921170676, 0.008343967939999808], [0.019674922525278273, 0.012661021710673154], [0.10244937187918188, 0.046046472227672414], [0.05051368349126595, 0.1629043152618277], [0.002404254890708793, 0.009505789558388267], [0.012260867156800234, 0.10508515931523589], [0.08204308488763186, 0.11129161927341152], [2.6027828744371387e-05, 0.02085765677240721], [0.025511540970282857, 0.025178178894163794], [0.006575995970198636, 0.13511544054429334], [0.061556777810326785, 0.03841297029295154], [0.1047338132089854, 0.06568122036862467], [0.09518040991231881, 0.03501634565976022], [0.00786820274834747, 0.04890654734476216], [0.05257840746121513, 0.022667448252149003], [0.040079232267371506, 0.08310336236305152], [0.09410109301444454, 0.15961733124190144], [0.0385565889083671, 0.0008117040637276585], [0.014537970882433858, 0.1364918183500415], [0.03522223850332319, 0.02013873152353854], [0.007806198611753317, 0.019150085487955798], [0.02453610606346518, 0.10878976702096409], [0.010755243258512197, 0.002573056161521675], [0.03708886127893443, 0.0037862562746299733], [0.08203997746212338, 0.0252179001832738], [0.0268340105832042, 0.08718996890960871], [0.0866350716676462, 0.04343608709286231], [0.03672643503752874, 0.032749785652834124], [0.07897487699891127, 0.02392750905651425], [0.08427731772960376, 0.0803029249601446], [0.046421680925313694, 0.026365378669808037], [0.01376523725633512, 0.16205136416512983], [0.04962427085672956, 0.06285471147665755], [0.10290260793893442, 0.077359824080887], [0.07437685430284889, 0.022957656147883726], [0.016371091378526506, 0.04281974257533258], [0.0221068188172137, 0.033462492005537275], [0.0551080107375274, 0.0020654408766377086], [0.01945381736203125, 0.08103106868696933], [0.0656585408307285, 0.039400421068200325], [0.03028180405546039, 0.07843368437277998], [0.02608489497601906, 0.03779114054296781], [0.007943590665965092, 0.025339212543492834], [0.08443488869290719, 0.00811430481349723], [0.1277557389395175, 0.00039685562276356445], [0.05456417801096727, 0.030748212827951815], [0.060716160730973454, 0.010569008003919439], [0.004507992600352673, 0.02998617379319518], [0.052259594557117886, 0.15712025147733794], [0.023152588006319225, 0.008350810686088478], [0.02237397332487903, 0.037409805136032814], [0.10664040056787767, 0.018673519183559167], [0.041793386737582906, 0.10090959131135253], [0.004362514963519415, 0.020760362013973577], [0.03783230721474644, 0.012866884203456441], [0.06096626135319333, 0.05584529878056688], [0.025646420628838942, 0.08540091209087089], [0.023940082296610574, 0.010495055874234688], [0.009995329526230152, 0.1489353228614958], [0.008574235148828002, 0.06587898817696894], [0.004036611599227746, 0.019911807699813683], [0.01569222936779531, 0.013474332445056969], [0.0024742168224000938, 0.0961310051751893], [0.010964062158440356, 0.04512228302345883], [0.09332078507883526, 0.05758985217640883], [0.0018004086432455088, 0.006816785686080101], [0.004259732897563057, 0.053730062649521765], [0.039474972093059855, 0.021826875829759937], [0.10094381127600702, 0.0600483480516191], [0.006169408160571821, 0.008016499500628271], [0.07777608344748192, 0.07174634353019232], [0.030220851266846892, 0.04712304952885581], [0.10553500586171127, 0.009875092335578178], [0.012169958929549904, 0.05539653930403554], [0.07096591942783924, 0.10135078649117091], [0.00481792915459061, 0.0724261351953203], [0.07797720187532023, 0.06702347685504162], [0.012502046016185403, 0.12237657181891842], [0.03608623669422786, 0.03402900654664426], [0.004195000768031396, 0.06169866108140659], [0.08616999116126335, 0.04846554635627745], [0.08432394526108748, 0.05935336304642477], [0.011457566414278314, 0.04207365093965834], [0.006091158424612379, 0.09550399991044811], [0.016703297662884625, 0.14217671995508738], [0.020147447933904154, 0.11274530472517552], [0.05497909685816728, 0.00831324277679521]]\n"
     ]
    }
   ],
   "source": [
    "count = 0\n",
    "calculation = [ ]\n",
    "ans_big = [ ]          #最後處理過的每組變數，也是最終要的變數串列\n",
    "ans_set = [ ]          #一組成對樣本計算過後的變數值\n",
    "\n",
    "for i in range(len(values)):\n",
    "    \n",
    "    for j in range(2):\n",
    "        \n",
    "        input_url = values[i][j]\n",
    "        calculation.append(get_spotify_data(input_url))\n",
    "        \n",
    "        count += 1                                         \n",
    "        if count == 2:\n",
    "            \n",
    "            for d1 ,d2 in zip(calculation[0],calculation[1]):      #這個迴圈為的是將成對樣本兩兩相減的絕對值存成串列\n",
    "                \n",
    "                x = abs(float(d1)-float(d2))      \n",
    "                ans_set.append(x)               \n",
    "                \n",
    "            ans_big.append(ans_set)             \n",
    "            ans_set = [ ]                        \n",
    "            count = 0                           \n",
    "            calculation = [ ]                    \n",
    "\n",
    "        else:                       #這表示如果是第1個網址，就先不要計算(收割)，先繼續等待第2網址到來才能開搞\n",
    "            pass\n",
    "    print(i, 'done')\n",
    "        \n",
    "print(ans_big)"
   ]
  },
  {
   "cell_type": "code",
   "execution_count": 18,
   "metadata": {},
   "outputs": [],
   "source": [
    "import pickle\n",
    "file = open(path + '99data_test.pkl', 'wb')\n",
    "pickle.dump(ans_big, file)\n",
    "file.close()"
   ]
  },
  {
   "cell_type": "code",
   "execution_count": 19,
   "metadata": {
    "scrolled": true
   },
   "outputs": [
    {
     "name": "stdout",
     "output_type": "stream",
     "text": [
      "[[0.00915075389980011, 0.05728778628014114], [0.006542371663605319, 0.11220211654665962], [0.04310456513842336, 0.05678319082475944], [0.028839062555174058, 0.007555285737287726], [0.019342708530104863, 0.010862313651553518], [0.0009649681016766186, 0.10173240498343897], [0.0038012442930115964, 0.11850960027868823], [0.017894200848873425, 0.09618119858351623], [0.0841696765791016, 0.05321945467029532], [0.0003523295887125043, 0.11103139612606275], [0.09222587931838147, 0.04389748688934628], [0.03596572915659746, 0.0463148949770089], [0.08691922921170676, 0.008343967939999808], [0.019674922525278273, 0.012661021710673154], [0.10244937187918188, 0.046046472227672414], [0.05051368349126595, 0.1629043152618277], [0.002404254890708793, 0.009505789558388267], [0.012260867156800234, 0.10508515931523589], [0.08204308488763186, 0.11129161927341152], [2.6027828744371387e-05, 0.02085765677240721], [0.025511540970282857, 0.025178178894163794], [0.006575995970198636, 0.13511544054429334], [0.061556777810326785, 0.03841297029295154], [0.1047338132089854, 0.06568122036862467], [0.09518040991231881, 0.03501634565976022], [0.00786820274834747, 0.04890654734476216], [0.05257840746121513, 0.022667448252149003], [0.040079232267371506, 0.08310336236305152], [0.09410109301444454, 0.15961733124190144], [0.0385565889083671, 0.0008117040637276585], [0.014537970882433858, 0.1364918183500415], [0.03522223850332319, 0.02013873152353854], [0.007806198611753317, 0.019150085487955798], [0.02453610606346518, 0.10878976702096409], [0.010755243258512197, 0.002573056161521675], [0.03708886127893443, 0.0037862562746299733], [0.08203997746212338, 0.0252179001832738], [0.0268340105832042, 0.08718996890960871], [0.0866350716676462, 0.04343608709286231], [0.03672643503752874, 0.032749785652834124], [0.07897487699891127, 0.02392750905651425], [0.08427731772960376, 0.0803029249601446], [0.046421680925313694, 0.026365378669808037], [0.01376523725633512, 0.16205136416512983], [0.04962427085672956, 0.06285471147665755], [0.10290260793893442, 0.077359824080887], [0.07437685430284889, 0.022957656147883726], [0.016371091378526506, 0.04281974257533258], [0.0221068188172137, 0.033462492005537275], [0.0551080107375274, 0.0020654408766377086], [0.01945381736203125, 0.08103106868696933], [0.0656585408307285, 0.039400421068200325], [0.03028180405546039, 0.07843368437277998], [0.02608489497601906, 0.03779114054296781], [0.007943590665965092, 0.025339212543492834], [0.08443488869290719, 0.00811430481349723], [0.1277557389395175, 0.00039685562276356445], [0.05456417801096727, 0.030748212827951815], [0.060716160730973454, 0.010569008003919439], [0.004507992600352673, 0.02998617379319518], [0.052259594557117886, 0.15712025147733794], [0.023152588006319225, 0.008350810686088478], [0.02237397332487903, 0.037409805136032814], [0.10664040056787767, 0.018673519183559167], [0.041793386737582906, 0.10090959131135253], [0.004362514963519415, 0.020760362013973577], [0.03783230721474644, 0.012866884203456441], [0.06096626135319333, 0.05584529878056688], [0.025646420628838942, 0.08540091209087089], [0.023940082296610574, 0.010495055874234688], [0.009995329526230152, 0.1489353228614958], [0.008574235148828002, 0.06587898817696894], [0.004036611599227746, 0.019911807699813683], [0.01569222936779531, 0.013474332445056969], [0.0024742168224000938, 0.0961310051751893], [0.010964062158440356, 0.04512228302345883], [0.09332078507883526, 0.05758985217640883], [0.0018004086432455088, 0.006816785686080101], [0.004259732897563057, 0.053730062649521765], [0.039474972093059855, 0.021826875829759937], [0.10094381127600702, 0.0600483480516191], [0.006169408160571821, 0.008016499500628271], [0.07777608344748192, 0.07174634353019232], [0.030220851266846892, 0.04712304952885581], [0.10553500586171127, 0.009875092335578178], [0.012169958929549904, 0.05539653930403554], [0.07096591942783924, 0.10135078649117091], [0.00481792915459061, 0.0724261351953203], [0.07797720187532023, 0.06702347685504162], [0.012502046016185403, 0.12237657181891842], [0.03608623669422786, 0.03402900654664426], [0.004195000768031396, 0.06169866108140659], [0.08616999116126335, 0.04846554635627745], [0.08432394526108748, 0.05935336304642477], [0.011457566414278314, 0.04207365093965834], [0.006091158424612379, 0.09550399991044811], [0.016703297662884625, 0.14217671995508738], [0.020147447933904154, 0.11274530472517552], [0.05497909685816728, 0.00831324277679521]]\n"
     ]
    }
   ],
   "source": [
    "pickle_off = open (path + '99data_test.pkl', \"rb\")\n",
    "emp = pickle.load(pickle_off)\n",
    "print(emp)"
   ]
  },
  {
   "cell_type": "code",
   "execution_count": 20,
   "metadata": {
    "scrolled": true
   },
   "outputs": [],
   "source": [
    "#將上面的結果轉成兩個lst各自存放\n",
    "speechiness_lst_zip = [ ]\n",
    "valence_lst_zip = [ ]\n",
    "\n",
    "for i in ans_big:\n",
    "    speechiness_lst_zip.append(i[0])\n",
    "    valence_lst_zip.append(i[1])\n",
    "    "
   ]
  },
  {
   "cell_type": "code",
   "execution_count": 21,
   "metadata": {
    "scrolled": true
   },
   "outputs": [
    {
     "name": "stdout",
     "output_type": "stream",
     "text": [
      "[0.00915075389980011, 0.006542371663605319, 0.04310456513842336, 0.028839062555174058, 0.019342708530104863, 0.0009649681016766186, 0.0038012442930115964, 0.017894200848873425, 0.0841696765791016, 0.0003523295887125043, 0.09222587931838147, 0.03596572915659746, 0.08691922921170676, 0.019674922525278273, 0.10244937187918188, 0.05051368349126595, 0.002404254890708793, 0.012260867156800234, 0.08204308488763186, 2.6027828744371387e-05, 0.025511540970282857, 0.006575995970198636, 0.061556777810326785, 0.1047338132089854, 0.09518040991231881, 0.00786820274834747, 0.05257840746121513, 0.040079232267371506, 0.09410109301444454, 0.0385565889083671, 0.014537970882433858, 0.03522223850332319, 0.007806198611753317, 0.02453610606346518, 0.010755243258512197, 0.03708886127893443, 0.08203997746212338, 0.0268340105832042, 0.0866350716676462, 0.03672643503752874, 0.07897487699891127, 0.08427731772960376, 0.046421680925313694, 0.01376523725633512, 0.04962427085672956, 0.10290260793893442, 0.07437685430284889, 0.016371091378526506, 0.0221068188172137, 0.0551080107375274, 0.01945381736203125, 0.0656585408307285, 0.03028180405546039, 0.02608489497601906, 0.007943590665965092, 0.08443488869290719, 0.1277557389395175, 0.05456417801096727, 0.060716160730973454, 0.004507992600352673, 0.052259594557117886, 0.023152588006319225, 0.02237397332487903, 0.10664040056787767, 0.041793386737582906, 0.004362514963519415, 0.03783230721474644, 0.06096626135319333, 0.025646420628838942, 0.023940082296610574, 0.009995329526230152, 0.008574235148828002, 0.004036611599227746, 0.01569222936779531, 0.0024742168224000938, 0.010964062158440356, 0.09332078507883526, 0.0018004086432455088, 0.004259732897563057, 0.039474972093059855, 0.10094381127600702, 0.006169408160571821, 0.07777608344748192, 0.030220851266846892, 0.10553500586171127, 0.012169958929549904, 0.07096591942783924, 0.00481792915459061, 0.07797720187532023, 0.012502046016185403, 0.03608623669422786, 0.004195000768031396, 0.08616999116126335, 0.08432394526108748, 0.011457566414278314, 0.006091158424612379, 0.016703297662884625, 0.020147447933904154, 0.05497909685816728]\n",
      "\n",
      "[0.05728778628014114, 0.11220211654665962, 0.05678319082475944, 0.007555285737287726, 0.010862313651553518, 0.10173240498343897, 0.11850960027868823, 0.09618119858351623, 0.05321945467029532, 0.11103139612606275, 0.04389748688934628, 0.0463148949770089, 0.008343967939999808, 0.012661021710673154, 0.046046472227672414, 0.1629043152618277, 0.009505789558388267, 0.10508515931523589, 0.11129161927341152, 0.02085765677240721, 0.025178178894163794, 0.13511544054429334, 0.03841297029295154, 0.06568122036862467, 0.03501634565976022, 0.04890654734476216, 0.022667448252149003, 0.08310336236305152, 0.15961733124190144, 0.0008117040637276585, 0.1364918183500415, 0.02013873152353854, 0.019150085487955798, 0.10878976702096409, 0.002573056161521675, 0.0037862562746299733, 0.0252179001832738, 0.08718996890960871, 0.04343608709286231, 0.032749785652834124, 0.02392750905651425, 0.0803029249601446, 0.026365378669808037, 0.16205136416512983, 0.06285471147665755, 0.077359824080887, 0.022957656147883726, 0.04281974257533258, 0.033462492005537275, 0.0020654408766377086, 0.08103106868696933, 0.039400421068200325, 0.07843368437277998, 0.03779114054296781, 0.025339212543492834, 0.00811430481349723, 0.00039685562276356445, 0.030748212827951815, 0.010569008003919439, 0.02998617379319518, 0.15712025147733794, 0.008350810686088478, 0.037409805136032814, 0.018673519183559167, 0.10090959131135253, 0.020760362013973577, 0.012866884203456441, 0.05584529878056688, 0.08540091209087089, 0.010495055874234688, 0.1489353228614958, 0.06587898817696894, 0.019911807699813683, 0.013474332445056969, 0.0961310051751893, 0.04512228302345883, 0.05758985217640883, 0.006816785686080101, 0.053730062649521765, 0.021826875829759937, 0.0600483480516191, 0.008016499500628271, 0.07174634353019232, 0.04712304952885581, 0.009875092335578178, 0.05539653930403554, 0.10135078649117091, 0.0724261351953203, 0.06702347685504162, 0.12237657181891842, 0.03402900654664426, 0.06169866108140659, 0.04846554635627745, 0.05935336304642477, 0.04207365093965834, 0.09550399991044811, 0.14217671995508738, 0.11274530472517552, 0.00831324277679521]\n"
     ]
    }
   ],
   "source": [
    "#檢查結果\n",
    "print(speechiness_lst_zip)\n",
    "print()\n",
    "print(valence_lst_zip)"
   ]
  },
  {
   "cell_type": "code",
   "execution_count": 22,
   "metadata": {},
   "outputs": [
    {
     "data": {
      "text/plain": [
       "99"
      ]
     },
     "execution_count": 22,
     "metadata": {},
     "output_type": "execute_result"
    }
   ],
   "source": [
    "relation = [ ]\n",
    "\n",
    "for i in values:\n",
    "    relation.append(i[2])\n",
    "\n",
    "len(relation)"
   ]
  },
  {
   "cell_type": "code",
   "execution_count": 23,
   "metadata": {},
   "outputs": [
    {
     "data": {
      "text/html": [
       "<div>\n",
       "<style scoped>\n",
       "    .dataframe tbody tr th:only-of-type {\n",
       "        vertical-align: middle;\n",
       "    }\n",
       "\n",
       "    .dataframe tbody tr th {\n",
       "        vertical-align: top;\n",
       "    }\n",
       "\n",
       "    .dataframe thead th {\n",
       "        text-align: right;\n",
       "    }\n",
       "</style>\n",
       "<table border=\"1\" class=\"dataframe\">\n",
       "  <thead>\n",
       "    <tr style=\"text-align: right;\">\n",
       "      <th></th>\n",
       "      <th>speechiness</th>\n",
       "      <th>valence</th>\n",
       "      <th>relationship</th>\n",
       "    </tr>\n",
       "  </thead>\n",
       "  <tbody>\n",
       "    <tr>\n",
       "      <th>0</th>\n",
       "      <td>0.009151</td>\n",
       "      <td>0.057288</td>\n",
       "      <td>1</td>\n",
       "    </tr>\n",
       "    <tr>\n",
       "      <th>1</th>\n",
       "      <td>0.006542</td>\n",
       "      <td>0.112202</td>\n",
       "      <td>1</td>\n",
       "    </tr>\n",
       "    <tr>\n",
       "      <th>2</th>\n",
       "      <td>0.043105</td>\n",
       "      <td>0.056783</td>\n",
       "      <td>1</td>\n",
       "    </tr>\n",
       "    <tr>\n",
       "      <th>3</th>\n",
       "      <td>0.028839</td>\n",
       "      <td>0.007555</td>\n",
       "      <td>1</td>\n",
       "    </tr>\n",
       "    <tr>\n",
       "      <th>4</th>\n",
       "      <td>0.019343</td>\n",
       "      <td>0.010862</td>\n",
       "      <td>1</td>\n",
       "    </tr>\n",
       "    <tr>\n",
       "      <th>...</th>\n",
       "      <td>...</td>\n",
       "      <td>...</td>\n",
       "      <td>...</td>\n",
       "    </tr>\n",
       "    <tr>\n",
       "      <th>94</th>\n",
       "      <td>0.011458</td>\n",
       "      <td>0.042074</td>\n",
       "      <td>0</td>\n",
       "    </tr>\n",
       "    <tr>\n",
       "      <th>95</th>\n",
       "      <td>0.006091</td>\n",
       "      <td>0.095504</td>\n",
       "      <td>0</td>\n",
       "    </tr>\n",
       "    <tr>\n",
       "      <th>96</th>\n",
       "      <td>0.016703</td>\n",
       "      <td>0.142177</td>\n",
       "      <td>0</td>\n",
       "    </tr>\n",
       "    <tr>\n",
       "      <th>97</th>\n",
       "      <td>0.020147</td>\n",
       "      <td>0.112745</td>\n",
       "      <td>0</td>\n",
       "    </tr>\n",
       "    <tr>\n",
       "      <th>98</th>\n",
       "      <td>0.054979</td>\n",
       "      <td>0.008313</td>\n",
       "      <td>0</td>\n",
       "    </tr>\n",
       "  </tbody>\n",
       "</table>\n",
       "<p>99 rows × 3 columns</p>\n",
       "</div>"
      ],
      "text/plain": [
       "    speechiness   valence  relationship\n",
       "0      0.009151  0.057288             1\n",
       "1      0.006542  0.112202             1\n",
       "2      0.043105  0.056783             1\n",
       "3      0.028839  0.007555             1\n",
       "4      0.019343  0.010862             1\n",
       "..          ...       ...           ...\n",
       "94     0.011458  0.042074             0\n",
       "95     0.006091  0.095504             0\n",
       "96     0.016703  0.142177             0\n",
       "97     0.020147  0.112745             0\n",
       "98     0.054979  0.008313             0\n",
       "\n",
       "[99 rows x 3 columns]"
      ]
     },
     "execution_count": 23,
     "metadata": {},
     "output_type": "execute_result"
    }
   ],
   "source": [
    "#創造dataframe\n",
    "cross  = list(zip(speechiness_lst_zip, valence_lst_zip, relation))\n",
    "df_test_final = pd.DataFrame(cross, columns = [\"speechiness\", \"valence\", \"relationship\"])\n",
    "df_test_final"
   ]
  },
  {
   "cell_type": "code",
   "execution_count": 24,
   "metadata": {},
   "outputs": [],
   "source": [
    "from sklearn import preprocessing, linear_model\n",
    "import numpy as np\n",
    "import matplotlib.pyplot as plt\n",
    "from sklearn.model_selection  import train_test_split\n",
    "plt.style.use('ggplot')\n",
    "plt.rcParams['font.family']='SimHei' #⿊體"
   ]
  },
  {
   "cell_type": "code",
   "execution_count": 25,
   "metadata": {},
   "outputs": [
    {
     "data": {
      "text/html": [
       "<div>\n",
       "<style scoped>\n",
       "    .dataframe tbody tr th:only-of-type {\n",
       "        vertical-align: middle;\n",
       "    }\n",
       "\n",
       "    .dataframe tbody tr th {\n",
       "        vertical-align: top;\n",
       "    }\n",
       "\n",
       "    .dataframe thead th {\n",
       "        text-align: right;\n",
       "    }\n",
       "</style>\n",
       "<table border=\"1\" class=\"dataframe\">\n",
       "  <thead>\n",
       "    <tr style=\"text-align: right;\">\n",
       "      <th></th>\n",
       "      <th>speechiness</th>\n",
       "      <th>valence</th>\n",
       "    </tr>\n",
       "  </thead>\n",
       "  <tbody>\n",
       "    <tr>\n",
       "      <th>80</th>\n",
       "      <td>0.100944</td>\n",
       "      <td>0.060048</td>\n",
       "    </tr>\n",
       "    <tr>\n",
       "      <th>43</th>\n",
       "      <td>0.013765</td>\n",
       "      <td>0.162051</td>\n",
       "    </tr>\n",
       "    <tr>\n",
       "      <th>62</th>\n",
       "      <td>0.022374</td>\n",
       "      <td>0.037410</td>\n",
       "    </tr>\n",
       "    <tr>\n",
       "      <th>73</th>\n",
       "      <td>0.015692</td>\n",
       "      <td>0.013474</td>\n",
       "    </tr>\n",
       "    <tr>\n",
       "      <th>28</th>\n",
       "      <td>0.094101</td>\n",
       "      <td>0.159617</td>\n",
       "    </tr>\n",
       "    <tr>\n",
       "      <th>...</th>\n",
       "      <td>...</td>\n",
       "      <td>...</td>\n",
       "    </tr>\n",
       "    <tr>\n",
       "      <th>90</th>\n",
       "      <td>0.036086</td>\n",
       "      <td>0.034029</td>\n",
       "    </tr>\n",
       "    <tr>\n",
       "      <th>89</th>\n",
       "      <td>0.012502</td>\n",
       "      <td>0.122377</td>\n",
       "    </tr>\n",
       "    <tr>\n",
       "      <th>25</th>\n",
       "      <td>0.007868</td>\n",
       "      <td>0.048907</td>\n",
       "    </tr>\n",
       "    <tr>\n",
       "      <th>15</th>\n",
       "      <td>0.050514</td>\n",
       "      <td>0.162904</td>\n",
       "    </tr>\n",
       "    <tr>\n",
       "      <th>14</th>\n",
       "      <td>0.102449</td>\n",
       "      <td>0.046046</td>\n",
       "    </tr>\n",
       "  </tbody>\n",
       "</table>\n",
       "<p>79 rows × 2 columns</p>\n",
       "</div>"
      ],
      "text/plain": [
       "    speechiness   valence\n",
       "80     0.100944  0.060048\n",
       "43     0.013765  0.162051\n",
       "62     0.022374  0.037410\n",
       "73     0.015692  0.013474\n",
       "28     0.094101  0.159617\n",
       "..          ...       ...\n",
       "90     0.036086  0.034029\n",
       "89     0.012502  0.122377\n",
       "25     0.007868  0.048907\n",
       "15     0.050514  0.162904\n",
       "14     0.102449  0.046046\n",
       "\n",
       "[79 rows x 2 columns]"
      ]
     },
     "execution_count": 25,
     "metadata": {},
     "output_type": "execute_result"
    }
   ],
   "source": [
    "#切分訓練 測試資料\n",
    "x = df_test_final[['speechiness','valence']]\n",
    "y = df_test_final[['relationship']]\n",
    "\n",
    "x_train, x_test, y_train, y_test = train_test_split(x, y, test_size = 0.2, random_state = 20191221)   #random_state 種子值\n",
    "\n",
    "x_train"
   ]
  },
  {
   "cell_type": "code",
   "execution_count": 26,
   "metadata": {},
   "outputs": [],
   "source": [
    "from sklearn.preprocessing  import StandardScaler\n",
    "sc = StandardScaler()\n",
    "sc.fit(x_train)\n",
    "\n",
    "x_train_nor=sc.transform(x_train)\n",
    "x_test_nor=sc.transform(x_test)"
   ]
  },
  {
   "cell_type": "code",
   "execution_count": 27,
   "metadata": {},
   "outputs": [
    {
     "name": "stdout",
     "output_type": "stream",
     "text": [
      "[[0.05915177 0.08194771]]\n",
      "[0.16945703]\n"
     ]
    },
    {
     "name": "stderr",
     "output_type": "stream",
     "text": [
      "//anaconda3/lib/python3.7/site-packages/sklearn/linear_model/logistic.py:432: FutureWarning: Default solver will be changed to 'lbfgs' in 0.22. Specify a solver to silence this warning.\n",
      "  FutureWarning)\n",
      "//anaconda3/lib/python3.7/site-packages/sklearn/utils/validation.py:724: DataConversionWarning: A column-vector y was passed when a 1d array was expected. Please change the shape of y to (n_samples, ), for example using ravel().\n",
      "  y = column_or_1d(y, warn=True)\n"
     ]
    }
   ],
   "source": [
    "#訓練資料分類效果(3個參數)\n",
    "from sklearn.linear_model  import LogisticRegression\n",
    "lr = LogisticRegression()\n",
    "lr.fit(x_train_nor,y_train)\n",
    "\n",
    "# 印出係數\n",
    "print(lr.coef_)\n",
    "# 印出截距\n",
    "print(lr.intercept_ )"
   ]
  },
  {
   "cell_type": "code",
   "execution_count": 28,
   "metadata": {},
   "outputs": [
    {
     "data": {
      "text/plain": [
       "array([[0.48699, 0.51301],\n",
       "       [0.44135, 0.55865],\n",
       "       [0.45274, 0.54726],\n",
       "       [0.46174, 0.53826],\n",
       "       [0.49437, 0.50563],\n",
       "       [0.45829, 0.54171],\n",
       "       [0.4386 , 0.5614 ],\n",
       "       [0.42884, 0.57116],\n",
       "       [0.4393 , 0.5607 ],\n",
       "       [0.46807, 0.53193],\n",
       "       [0.46693, 0.53307],\n",
       "       [0.4347 , 0.5653 ],\n",
       "       [0.44337, 0.55663],\n",
       "       [0.42591, 0.57409],\n",
       "       [0.4232 , 0.5768 ],\n",
       "       [0.44472, 0.55528],\n",
       "       [0.49693, 0.50307],\n",
       "       [0.46569, 0.53431],\n",
       "       [0.43808, 0.56192],\n",
       "       [0.45508, 0.54492]])"
      ]
     },
     "execution_count": 28,
     "metadata": {},
     "output_type": "execute_result"
    }
   ],
   "source": [
    "#檢查樣本外\n",
    "np.round(lr.predict_proba(x_test_nor),5)"
   ]
  },
  {
   "cell_type": "code",
   "execution_count": 43,
   "metadata": {},
   "outputs": [
    {
     "name": "stdout",
     "output_type": "stream",
     "text": [
      "[[0 0]\n",
      " [4 6]]\n",
      "Accuracy: 60.00%\n"
     ]
    },
    {
     "name": "stderr",
     "output_type": "stream",
     "text": [
      "//anaconda3/lib/python3.7/site-packages/sklearn/linear_model/logistic.py:432: FutureWarning: Default solver will be changed to 'lbfgs' in 0.22. Specify a solver to silence this warning.\n",
      "  FutureWarning)\n"
     ]
    }
   ],
   "source": [
    "df_test_final = pd.DataFrame(cross, columns = [\"speechiness\", \"valence\", \"relationship\"])\n",
    "\n",
    "# Removed observations without valence\n",
    "\n",
    "df_test_final = df_test_final[~df_test_final[\"speechiness\"].isna()]\n",
    "train, validation = train_test_split(df_test_final, test_size=0.1, random_state = 123)\n",
    "X_train = train.loc[:, [\"speechiness\", \"valence\"]].values\n",
    "y_train = train.loc[:, \"relationship\"].values\n",
    "\n",
    "# Fit Logistic regression classifier\n",
    "\n",
    "clf = LogisticRegression()\n",
    "clf.fit(X_train, y_train)\n",
    "X_validation = validation.loc[:, [\"speechiness\", \"valence\"]].values\n",
    "y_validation = validation.loc[:, \"relationship\"].values\n",
    "\n",
    "y_hat = clf.predict(X_validation)\n",
    "# Calculating confusion matrix\n",
    "\n",
    "nunique_labels = len(set(y_train))\n",
    "conf_mat_shape = (nunique_labels, nunique_labels)\n",
    "conf_mat = np.zeros(conf_mat_shape, dtype=int)\n",
    "\n",
    "for actual, predict in zip(y_hat, y_validation):\n",
    "    conf_mat[actual, predict] += 1\n",
    "\n",
    "# Calculating accuracy\n",
    "\n",
    "accuracy = (conf_mat[0, 0] + conf_mat[1, 1])/conf_mat.sum()\n",
    "\n",
    "print(conf_mat)\n",
    "print(\"Accuracy: {:.2f}%\".format(accuracy * 100))"
   ]
  },
  {
   "cell_type": "code",
   "execution_count": null,
   "metadata": {},
   "outputs": [],
   "source": []
  }
 ],
 "metadata": {
  "kernelspec": {
   "display_name": "Python 3",
   "language": "python",
   "name": "python3"
  },
  "language_info": {
   "codemirror_mode": {
    "name": "ipython",
    "version": 3
   },
   "file_extension": ".py",
   "mimetype": "text/x-python",
   "name": "python",
   "nbconvert_exporter": "python",
   "pygments_lexer": "ipython3",
   "version": "3.7.3"
  }
 },
 "nbformat": 4,
 "nbformat_minor": 2
}
